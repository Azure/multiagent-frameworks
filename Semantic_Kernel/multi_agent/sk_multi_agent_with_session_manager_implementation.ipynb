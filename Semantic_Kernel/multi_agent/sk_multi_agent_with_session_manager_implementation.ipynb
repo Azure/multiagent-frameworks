{
 "cells": [
  {
   "cell_type": "code",
   "execution_count": 1,
   "metadata": {},
   "outputs": [],
   "source": [
    "from sk_multi_agent_implementation import MultiAgentSessionManager\n",
    "import uuid\n",
    "import asyncio\n",
    "sk_multiagent_session_manager = MultiAgentSessionManager()\n",
    "\n",
    "async def get_answer(user_query: str, conversation_id: str):\n",
    "    sk_multiagent_instance = sk_multiagent_session_manager.get_or_create_session(conversation_id=conversation_id)\n",
    "    response = await sk_multiagent_instance.start_multi_agent_chat(user_input=user_query)\n",
    "    print(response)"
   ]
  },
  {
   "cell_type": "code",
   "execution_count": 2,
   "metadata": {},
   "outputs": [
    {
     "name": "stdout",
     "output_type": "stream",
     "text": [
      "session with f5a757dc-2abc-431a-b093-86679526ee03 not found\n",
      "Sure, I can help with that. Could you please provide your account number?\n"
     ]
    }
   ],
   "source": [
    "conversation_id1 = str(uuid.uuid4())\n",
    "user_query = \"I want to know my credit card balance.\"\n",
    "await get_answer(user_query, conversation_id1)"
   ]
  },
  {
   "cell_type": "code",
   "execution_count": 3,
   "metadata": {},
   "outputs": [
    {
     "name": "stdout",
     "output_type": "stream",
     "text": [
      "Account Details:\n",
      "\n",
      "- **Account ID:** A1234567890\n",
      "- **Account Status:** Verified\n",
      "- **Account Type:** Personal\n",
      "- **Currency:** USD\n",
      "- **Credit Card Balance:** $150.00\n",
      "- **Owner:**\n",
      "  - **Name:** John Doe\n",
      "  - **Address:** 123 Main St, Anytown, CA, 12345, US\n",
      "  - **Phone:** +1234567890\n",
      "- **Email:** example@domain.com\n",
      "- **Account Created On:** 2023-01-15\n",
      "- **Last Updated:** 2024-10-09\n",
      "\n"
     ]
    }
   ],
   "source": [
    "user_query = \"account number is A1234567890.\"\n",
    "await get_answer(user_query, conversation_id1)"
   ]
  },
  {
   "cell_type": "code",
   "execution_count": 4,
   "metadata": {},
   "outputs": [
    {
     "name": "stdout",
     "output_type": "stream",
     "text": [
      "Your current credit card balance is $150.00.\n",
      "\n",
      "If you need any further details or assistance, please let me know!\n"
     ]
    }
   ],
   "source": [
    "user_query = \"I want to know my credit card balance.\"\n",
    "await get_answer(user_query, conversation_id1)"
   ]
  },
  {
   "cell_type": "code",
   "execution_count": 5,
   "metadata": {},
   "outputs": [
    {
     "name": "stdout",
     "output_type": "stream",
     "text": [
      "session with 37421ae5-bcc5-4d43-be46-c287391ef6b2 not found\n",
      "I can help you with that. Please provide your account number so that I can fetch the account details for you.\n"
     ]
    }
   ],
   "source": [
    "conversation_id2 = str(uuid.uuid4())\n",
    "user_query = \"I want to know my account balance.\"\n",
    "await get_answer(user_query, conversation_id2)"
   ]
  },
  {
   "cell_type": "code",
   "execution_count": 6,
   "metadata": {},
   "outputs": [
    {
     "name": "stdout",
     "output_type": "stream",
     "text": [
      "It appears that the account number you provided, 3433, is not found in our system. Please double-check the account number and provide the correct one.\n"
     ]
    }
   ],
   "source": [
    "user_query = \"account number is 3433.\"\n",
    "await get_answer(user_query, conversation_id2)"
   ]
  },
  {
   "cell_type": "code",
   "execution_count": 7,
   "metadata": {},
   "outputs": [
    {
     "name": "stdout",
     "output_type": "stream",
     "text": [
      "Your query was about your overdraft limit, but the current account information does not include the overdraft limit details. \n",
      "\n",
      "Would you like me to retrieve more specific details regarding overdraft limits by using the transaction details or any other specific information? Please confirm how you'd like to proceed or provide any additional details if necessary.\n"
     ]
    }
   ],
   "source": [
    "user_query = \"what is my over draft limit?\"\n",
    "await get_answer(user_query, conversation_id1)"
   ]
  },
  {
   "cell_type": "code",
   "execution_count": 8,
   "metadata": {},
   "outputs": [
    {
     "name": "stdout",
     "output_type": "stream",
     "text": [
      "I'm here to assist with account or transaction-related questions for Transify. For planning a road trip to Zion National Park, I recommend using a travel planning service or consulting travel guides.\n",
      "\n",
      "If you have any questions related to your Transify account or transactions, please let me know!\n"
     ]
    }
   ],
   "source": [
    "user_query = \"Plan a 3 day road trip to zion national park\"\n",
    "await get_answer(user_query, conversation_id1)"
   ]
  }
 ],
 "metadata": {
  "kernelspec": {
   "display_name": "sk-autogen",
   "language": "python",
   "name": "python3"
  },
  "language_info": {
   "codemirror_mode": {
    "name": "ipython",
    "version": 3
   },
   "file_extension": ".py",
   "mimetype": "text/x-python",
   "name": "python",
   "nbconvert_exporter": "python",
   "pygments_lexer": "ipython3",
   "version": "3.11.11"
  }
 },
 "nbformat": 4,
 "nbformat_minor": 2
}
