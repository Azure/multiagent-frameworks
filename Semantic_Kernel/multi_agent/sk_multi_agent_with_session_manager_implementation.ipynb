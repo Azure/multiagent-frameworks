{
 "cells": [
  {
   "cell_type": "code",
   "execution_count": 1,
   "metadata": {},
   "outputs": [],
   "source": [
    "from sk_multi_agent_implementation import MultiAgentSessionManager\n",
    "import uuid\n",
    "import asyncio\n",
    "sk_multiagent_session_manager = MultiAgentSessionManager()\n",
    "\n",
    "async def get_answer(user_query: str, conversation_id: str):\n",
    "    sk_multiagent_instance = sk_multiagent_session_manager.get_or_create_session(conversation_id=conversation_id)\n",
    "    response = await sk_multiagent_instance.start_multi_agent_chat(user_input=user_query)\n",
    "    print(response)"
   ]
  },
  {
   "cell_type": "code",
   "execution_count": 2,
   "metadata": {},
   "outputs": [
    {
     "name": "stdout",
     "output_type": "stream",
     "text": [
      "session with 0e17aa1b-5fb6-4578-8a17-26e67cf212e7 not found\n",
      "Could you please provide your account number so I can assist you in retrieving your credit card balance?\n"
     ]
    }
   ],
   "source": [
    "conversation_id1 = str(uuid.uuid4())\n",
    "user_query = \"I want to know my credit card balance.\"\n",
    "await get_answer(user_query, conversation_id1)"
   ]
  },
  {
   "cell_type": "code",
   "execution_count": 3,
   "metadata": {},
   "outputs": [
    {
     "name": "stdout",
     "output_type": "stream",
     "text": [
      "**Transaction Details:**\n",
      "\n",
      "- **Transaction ID:** 9HX25435AB0123456  \n",
      "- **Status:** Completed  \n",
      "- **Amount:** $75.00 USD  \n",
      "- **Transaction Fee:** $2.50 USD  \n",
      "- **Payment Method:** Transify  \n",
      "\n",
      "**Payer Details:**  \n",
      "- **Payer ID:** A1234567890  \n",
      "- **Name:** John Doe  \n",
      "- **Email:** buyer@example.com  \n",
      "- **Country:** US  \n",
      "\n",
      "**Payee Details:**  \n",
      "- **Merchant ID:** MERCHANT987654321  \n",
      "- **Name:** Alice's Art Supplies  \n",
      "- **Email:** seller@example.com  \n",
      "\n",
      "**Items Purchased:**  \n",
      "1. **Watercolor Paint Set** - $50.00 USD  \n",
      "2. **Brush Set** - $25.00 USD  \n",
      "\n",
      "**Shipping Address:**  \n",
      "- **Recipient Name:** John Doe  \n",
      "- **Address:** 123 Main St, Anytown, CA, 90210, US  \n",
      "- **Shipping Cost:** $5.00 USD  \n",
      "\n",
      "**Transaction Timestamps:**  \n",
      "- **Created At:** 2024-09-29T12:45:30Z  \n",
      "- **Last Updated At:** 2024-09-29T12:46:45Z  \n",
      "\n",
      "For more details, you can review the transaction at:  \n",
      "[Transaction Details](https://api.transify.com/v1/payments/transaction/9HX25435AB0123456)  \n",
      "\n",
      "Let me know if you have any further questions!\n"
     ]
    }
   ],
   "source": [
    "user_query = \"account number is A1234567890.\"\n",
    "await get_answer(user_query, conversation_id1)"
   ]
  },
  {
   "cell_type": "code",
   "execution_count": 4,
   "metadata": {},
   "outputs": [
    {
     "name": "stdout",
     "output_type": "stream",
     "text": [
      "**Account Details:**\n",
      "\n",
      "- **Account ID:** A1234567890  \n",
      "- **Account Status:** Verified  \n",
      "- **Account Type:** Personal  \n",
      "- **Currency:** USD  \n",
      "- **Credit Card Balance:** $150.00 USD  \n",
      "\n",
      "**Owner Details:**  \n",
      "- **Name:** John Doe  \n",
      "- **Email:** example@domain.com  \n",
      "- **Phone:** +1234567890  \n",
      "- **Address:** 123 Main St, Anytown, CA, 12345, US  \n",
      "\n",
      "**Account Creation Date:** 2023-01-15T08:55:30Z  \n",
      "**Last Updated:** 2024-10-09T10:20:15Z  \n",
      "\n",
      "You can find additional details [here](https://api.transify.com/v1/accounts/A1234567890).  \n",
      "\n",
      "Let me know if there's anything else you'd like help with!\n"
     ]
    }
   ],
   "source": [
    "user_query = \"I want to know my credit card balance.\"\n",
    "await get_answer(user_query, conversation_id1)"
   ]
  },
  {
   "cell_type": "code",
   "execution_count": 5,
   "metadata": {},
   "outputs": [
    {
     "name": "stdout",
     "output_type": "stream",
     "text": [
      "session with 6fb2631d-f123-42dd-ac69-6f96ed3318c9 not found\n",
      "Can you please provide your account number so I can retrieve your account balance?\n"
     ]
    }
   ],
   "source": [
    "conversation_id2 = str(uuid.uuid4())\n",
    "user_query = \"I want to know my account balance.\"\n",
    "await get_answer(user_query, conversation_id2)"
   ]
  },
  {
   "cell_type": "code",
   "execution_count": 6,
   "metadata": {},
   "outputs": [
    {
     "name": "stdout",
     "output_type": "stream",
     "text": [
      "It seems that the account number \"3433\" could not be found in our records. Could you please confirm the account number or provide a different one so I can assist you further?\n"
     ]
    }
   ],
   "source": [
    "user_query = \"account number is 3433.\"\n",
    "await get_answer(user_query, conversation_id2)"
   ]
  },
  {
   "cell_type": "code",
   "execution_count": 7,
   "metadata": {},
   "outputs": [
    {
     "name": "stdout",
     "output_type": "stream",
     "text": [
      "The provided account information does not indicate an overdraft limit. To assist you further, can you please confirm if your account includes overdraft services or provide any additional details?\n"
     ]
    }
   ],
   "source": [
    "user_query = \"what is my over draft limit?\"\n",
    "await get_answer(user_query, conversation_id1)"
   ]
  },
  {
   "cell_type": "code",
   "execution_count": 8,
   "metadata": {},
   "outputs": [
    {
     "name": "stdout",
     "output_type": "stream",
     "text": [
      "I can only assist with questions regarding account or transaction details for Transify. For planning a road trip, I recommend using travel planning resources or websites dedicated to travel recommendations. Let me know if you have any Transify-related questions!\n"
     ]
    }
   ],
   "source": [
    "user_query = \"Plan a 3 day road trip to zion national park\"\n",
    "await get_answer(user_query, conversation_id1)"
   ]
  }
 ],
 "metadata": {
  "kernelspec": {
   "display_name": "venv",
   "language": "python",
   "name": "python3"
  },
  "language_info": {
   "codemirror_mode": {
    "name": "ipython",
    "version": 3
   },
   "file_extension": ".py",
   "mimetype": "text/x-python",
   "name": "python",
   "nbconvert_exporter": "python",
   "pygments_lexer": "ipython3",
   "version": "3.11.5"
  }
 },
 "nbformat": 4,
 "nbformat_minor": 2
}
