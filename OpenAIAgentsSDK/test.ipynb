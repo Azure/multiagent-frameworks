{
 "cells": [
  {
   "cell_type": "code",
   "execution_count": 9,
   "metadata": {},
   "outputs": [],
   "source": [
    "import os\n",
    "import asyncio\n",
    "from openai import AsyncAzureOpenAI\n",
    "from openai import OpenAIError\n",
    "from agents import Agent, Runner, OpenAIChatCompletionsModel, set_tracing_disabled\n",
    "\n",
    "from azure.identity import DefaultAzureCredential, get_bearer_token_provider\n",
    "\n",
    "token_provider = get_bearer_token_provider(\n",
    "    DefaultAzureCredential(), \"https://cognitiveservices.azure.com/.default\"\n",
    ")\n"
   ]
  },
  {
   "cell_type": "code",
   "execution_count": 11,
   "metadata": {},
   "outputs": [],
   "source": [
    "from agents import Agent, ModelSettings, function_tool\n",
    "\n",
    "@function_tool\n",
    "def get_weather(city: str) -> str:\n",
    "    return f\"The weather in {city} is sunny\"\n",
    "\n",
    "agent = Agent(\n",
    "    name=\"Haiku agent\",\n",
    "    instructions=\"Always respond in haiku form\",\n",
    "    model=\"o3-mini\",\n",
    "    tools=[get_weather],\n",
    ")"
   ]
  },
  {
   "cell_type": "code",
   "execution_count": 12,
   "metadata": {},
   "outputs": [],
   "source": [
    "from dataclasses import dataclass\n",
    "\n",
    "\n",
    "@dataclass\n",
    "class UserContext:\n",
    "  uid: str\n",
    "  is_pro_user: bool\n",
    "\n",
    "  async def fetch_purchases() -> list[str]:\n",
    "     return ...\n",
    "\n",
    "agent = Agent[UserContext](\n",
    "    ...,\n",
    ")"
   ]
  },
  {
   "cell_type": "code",
   "execution_count": 13,
   "metadata": {},
   "outputs": [],
   "source": [
    "from pydantic import BaseModel\n",
    "from agents import Agent\n",
    "\n",
    "\n",
    "class CalendarEvent(BaseModel):\n",
    "    name: str\n",
    "    date: str\n",
    "    participants: list[str]\n",
    "\n",
    "agent = Agent(\n",
    "    name=\"Calendar extractor\",\n",
    "    instructions=\"Extract calendar events from text\",\n",
    "    output_type=CalendarEvent,\n",
    ")"
   ]
  },
  {
   "cell_type": "code",
   "execution_count": null,
   "metadata": {},
   "outputs": [
    {
     "name": "stdout",
     "output_type": "stream",
     "text": [
      "Code calls itself, deep—  \n",
      "Patterns loop, yet grow anew.  \n",
      "Logic finds its end.\n"
     ]
    }
   ],
   "source": [
    "\n",
    "# Disable tracing since we're using Azure OpenAI\n",
    "set_tracing_disabled(disabled=True)\n",
    "\n",
    "deployment = \"gpt-4o\"\n",
    "\n",
    "async def run_agent():\n",
    "    try:\n",
    "        # Create the Async Azure OpenAI client\n",
    "        client = AsyncAzureOpenAI(\n",
    "            api_version=\"2023-09-01-preview\",\n",
    "            azure_endpoint=\"https://aihub6750316290.openai.azure.com/\",\n",
    "            azure_ad_token_provider=token_provider,  # Use DefaultAzureCredential for authentication\n",
    "\n",
    "        )\n",
    "\n",
    "        # Configure the agent with Azure OpenAI\n",
    "        agent = Agent(\n",
    "            name=\"Assistant\",\n",
    "            instructions=\"You are a helpful assistant\",\n",
    "            model=OpenAIChatCompletionsModel(\n",
    "                model=deployment,\n",
    "                openai_client=client,\n",
    "            )\n",
    "        )\n",
    "\n",
    "        result = await Runner.run(agent, \"Write a haiku about recursion in programming.\")\n",
    "        print(result.final_output)\n",
    "\n",
    "    except OpenAIError as e:\n",
    "        print(f\"OpenAI API Error: {str(e)}\")\n",
    "    except Exception as e:\n",
    "        print(f\"An unexpected error occurred: {str(e)}\")\n",
    "\n",
    "await run_agent()"
   ]
  },
  {
   "cell_type": "code",
   "execution_count": null,
   "metadata": {},
   "outputs": [],
   "source": [
    "from agents import Agent\n",
    "\n",
    "booking_agent = Agent(...)\n",
    "refund_agent = Agent(...)\n",
    "\n",
    "triage_agent = Agent(\n",
    "    name=\"Triage agent\",\n",
    "    instructions=(\n",
    "        \"Help the user with their questions.\"\n",
    "        \"If they ask about booking, handoff to the booking agent.\"\n",
    "        \"If they ask about refunds, handoff to the refund agent.\"\n",
    "    ),\n",
    "    handoffs=[booking_agent, refund_agent],\n",
    ")"
   ]
  }
 ],
 "metadata": {
  "kernelspec": {
   "display_name": "venv",
   "language": "python",
   "name": "python3"
  },
  "language_info": {
   "codemirror_mode": {
    "name": "ipython",
    "version": 3
   },
   "file_extension": ".py",
   "mimetype": "text/x-python",
   "name": "python",
   "nbconvert_exporter": "python",
   "pygments_lexer": "ipython3",
   "version": "3.11.5"
  }
 },
 "nbformat": 4,
 "nbformat_minor": 2
}
